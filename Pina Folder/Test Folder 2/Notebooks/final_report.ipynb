{
 "cells": [
  {
   "cell_type": "markdown",
   "id": "887463ae",
   "metadata": {},
   "source": [
    "### ML Standard Report Formatting\n",
    "\n",
    "*Joshua Pina*\n",
    "- Introduction\n",
    "- Include EDA analysis summary (Plots)\n",
    "- Literature Review work done in the past\n",
    "- Methodologies and Algorithms used\n",
    "\n",
    "*Abdul-Malik Mohammed*\n",
    "\n",
    "- Data and Result Tables\n",
    "- Metrics descriptions\n",
    "- Plots for Training loss and results\n",
    "- Visualization\n",
    "\n",
    "*Somiya Rauf*\n",
    "- Results discussion\n",
    "- Conclusion"
   ]
  },
  {
   "cell_type": "markdown",
   "id": "e309ab7b",
   "metadata": {},
   "source": [
    "#### Introduction\n"
   ]
  },
  {
   "cell_type": "code",
   "execution_count": null,
   "id": "7601cdca",
   "metadata": {},
   "outputs": [],
   "source": []
  },
  {
   "cell_type": "markdown",
   "id": "6bd8aba3",
   "metadata": {},
   "source": []
  }
 ],
 "metadata": {
  "kernelspec": {
   "display_name": "ml-env",
   "language": "python",
   "name": "python3"
  },
  "language_info": {
   "name": "python",
   "version": "3.11.13"
  }
 },
 "nbformat": 4,
 "nbformat_minor": 5
}
